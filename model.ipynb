{
 "cells": [
  {
   "cell_type": "code",
   "execution_count": 105,
   "metadata": {},
   "outputs": [],
   "source": [
    "#!pip install onnxruntime"
   ]
  },
  {
   "cell_type": "code",
   "execution_count": 106,
   "metadata": {},
   "outputs": [],
   "source": [
    "import onnx\n",
    "import onnxruntime\n",
    "import os\n",
    "import numpy as np \n",
    "import torch\n",
    "import torch.nn as nn\n",
    "import torch.optim as opt\n",
    "from sklearn.metrics import confusion_matrix\n",
    "from sklearn.metrics import precision_score, recall_score, f1_score, accuracy_score\n",
    "from sklearn.model_selection import train_test_split\n",
    "import pandas as pd"
   ]
  },
  {
   "cell_type": "code",
   "execution_count": 107,
   "metadata": {},
   "outputs": [],
   "source": [
    "torch_device = \"cpu\"\n",
    "\n",
    "if torch.cuda.is_available():\n",
    "    torch_device = \"cuda:0\""
   ]
  },
  {
   "cell_type": "code",
   "execution_count": 108,
   "metadata": {},
   "outputs": [],
   "source": [
    "dataframe = pd.read_csv(\"Concrete_Data.csv\")"
   ]
  },
  {
   "cell_type": "code",
   "execution_count": 109,
   "metadata": {},
   "outputs": [
    {
     "name": "stdout",
     "output_type": "stream",
     "text": [
      "(8,)\n",
      "(1,)\n",
      "\n",
      "(206, 8)\n",
      "(206, 1)\n"
     ]
    }
   ],
   "source": [
    "X_train, X_test, y_train, y_test = train_test_split(dataframe.to_numpy()[:,:-1],dataframe.to_numpy()[:,-1:], test_size=.20, random_state=42)\n",
    "\n",
    "y_train = y_train.reshape((-1,1))\n",
    "y_test =  y_test.reshape((-1,1))\n",
    "\n",
    "print(X_train[0].shape)\n",
    "print(y_train[0].shape)\n",
    "print()\n",
    "print(X_test.shape)\n",
    "print(y_test.shape)\n",
    "\n"
   ]
  },
  {
   "cell_type": "code",
   "execution_count": 110,
   "metadata": {},
   "outputs": [],
   "source": [
    "X_train = torch.tensor(X_train, dtype=torch.long)\n",
    "y_train = torch.tensor(y_train, dtype=torch.long)\n",
    "\n",
    "train_set = [ ( X_train[i], y_train[i].item() ) for i in range(X_train.shape[0])]\n",
    "train_dl = torch.utils.data.DataLoader( train_set, batch_size=16, shuffle=True )"
   ]
  },
  {
   "cell_type": "code",
   "execution_count": 111,
   "metadata": {},
   "outputs": [],
   "source": [
    "X_test = torch.tensor(X_test, dtype=torch.long)\n",
    "y_test = torch.tensor(y_test, dtype=torch.long)\n",
    "\n",
    "test_set = [ ( X_test[i], y_test[i].item() ) for i in range(X_test.shape[0])]\n",
    "test_dl = torch.utils.data.DataLoader( test_set, batch_size=y_test.shape[0], shuffle=True )"
   ]
  },
  {
   "cell_type": "code",
   "execution_count": 112,
   "metadata": {},
   "outputs": [],
   "source": [
    "class MLP(nn.Module):\n",
    "    def __init__(self):\n",
    "        super().__init__()\n",
    "        self.model = nn.Sequential(\n",
    "\n",
    "            nn.Linear(8, 20),\n",
    "            nn.ReLU(),\n",
    "            nn.Dropout(.20),\n",
    "\n",
    "            nn.Linear(20, 5),\n",
    "            nn.ReLU(),\n",
    "            nn.Dropout(.20),\n",
    "\n",
    "            nn.Linear(5, 1),\n",
    "        )\n",
    "\n",
    "    def forward(self, x):\n",
    "        return self.model(x)"
   ]
  },
  {
   "cell_type": "code",
   "execution_count": 113,
   "metadata": {},
   "outputs": [],
   "source": [
    "model = MLP()\n",
    "loss_fn = nn.CrossEntropyLoss()\n",
    "optimizer = opt.Adam(model.parameters(), lr=.001)\n",
    "epochs = 200"
   ]
  },
  {
   "cell_type": "code",
   "execution_count": 114,
   "metadata": {},
   "outputs": [],
   "source": [
    "def training_loop( N_Epochs, model, loss_fn, opt ):\n",
    "    for epoch in range(N_Epochs):\n",
    "        for xb, yb in train_dl:\n",
    "\n",
    "            xb = xb.to(torch.float)\n",
    "            yb = yb.view((-1,1)).to(torch.float)\n",
    "\n",
    "\n",
    "            y_pred = model(xb)\n",
    "            #print(yb)\n",
    "            #print(y_pred)\n",
    "            #print()\n",
    "\n",
    "            loss = loss_fn(y_pred, yb)\n",
    "\n",
    "            opt.zero_grad()\n",
    "            loss.backward()\n",
    "            opt.step()\n",
    "\n",
    "        if (epoch+1) % 5 == 0:\n",
    "            print()\n",
    "            print(epoch+1, \"loss=\", loss)\n"
   ]
  },
  {
   "cell_type": "code",
   "execution_count": 115,
   "metadata": {},
   "outputs": [
    {
     "name": "stdout",
     "output_type": "stream",
     "text": [
      "\n",
      "5 loss= tensor(-0., grad_fn=<DivBackward1>)\n",
      "\n",
      "10 loss= tensor(-0., grad_fn=<DivBackward1>)\n",
      "\n",
      "15 loss= tensor(-0., grad_fn=<DivBackward1>)\n",
      "\n",
      "20 loss= tensor(-0., grad_fn=<DivBackward1>)\n",
      "\n",
      "25 loss= tensor(-0., grad_fn=<DivBackward1>)\n",
      "\n",
      "30 loss= tensor(-0., grad_fn=<DivBackward1>)\n",
      "\n",
      "35 loss= tensor(-0., grad_fn=<DivBackward1>)\n",
      "\n",
      "40 loss= tensor(-0., grad_fn=<DivBackward1>)\n",
      "\n",
      "45 loss= tensor(-0., grad_fn=<DivBackward1>)\n",
      "\n",
      "50 loss= tensor(-0., grad_fn=<DivBackward1>)\n",
      "\n",
      "55 loss= tensor(-0., grad_fn=<DivBackward1>)\n",
      "\n",
      "60 loss= tensor(-0., grad_fn=<DivBackward1>)\n",
      "\n",
      "65 loss= tensor(-0., grad_fn=<DivBackward1>)\n",
      "\n",
      "70 loss= tensor(-0., grad_fn=<DivBackward1>)\n",
      "\n",
      "75 loss= tensor(-0., grad_fn=<DivBackward1>)\n",
      "\n",
      "80 loss= tensor(-0., grad_fn=<DivBackward1>)\n",
      "\n",
      "85 loss= tensor(-0., grad_fn=<DivBackward1>)\n",
      "\n",
      "90 loss= tensor(-0., grad_fn=<DivBackward1>)\n",
      "\n",
      "95 loss= tensor(-0., grad_fn=<DivBackward1>)\n",
      "\n",
      "100 loss= tensor(-0., grad_fn=<DivBackward1>)\n",
      "\n",
      "105 loss= tensor(-0., grad_fn=<DivBackward1>)\n",
      "\n",
      "110 loss= tensor(-0., grad_fn=<DivBackward1>)\n",
      "\n",
      "115 loss= tensor(-0., grad_fn=<DivBackward1>)\n",
      "\n",
      "120 loss= tensor(-0., grad_fn=<DivBackward1>)\n",
      "\n",
      "125 loss= tensor(-0., grad_fn=<DivBackward1>)\n",
      "\n",
      "130 loss= tensor(-0., grad_fn=<DivBackward1>)\n",
      "\n",
      "135 loss= tensor(-0., grad_fn=<DivBackward1>)\n",
      "\n",
      "140 loss= tensor(-0., grad_fn=<DivBackward1>)\n",
      "\n",
      "145 loss= tensor(-0., grad_fn=<DivBackward1>)\n",
      "\n",
      "150 loss= tensor(-0., grad_fn=<DivBackward1>)\n",
      "\n",
      "155 loss= tensor(-0., grad_fn=<DivBackward1>)\n",
      "\n",
      "160 loss= tensor(-0., grad_fn=<DivBackward1>)\n",
      "\n",
      "165 loss= tensor(-0., grad_fn=<DivBackward1>)\n",
      "\n",
      "170 loss= tensor(-0., grad_fn=<DivBackward1>)\n",
      "\n",
      "175 loss= tensor(-0., grad_fn=<DivBackward1>)\n",
      "\n",
      "180 loss= tensor(-0., grad_fn=<DivBackward1>)\n",
      "\n",
      "185 loss= tensor(-0., grad_fn=<DivBackward1>)\n",
      "\n",
      "190 loss= tensor(-0., grad_fn=<DivBackward1>)\n",
      "\n",
      "195 loss= tensor(-0., grad_fn=<DivBackward1>)\n",
      "\n",
      "200 loss= tensor(-0., grad_fn=<DivBackward1>)\n"
     ]
    }
   ],
   "source": [
    "model.train()\n",
    "training_loop(epochs, model, loss_fn, optimizer)"
   ]
  },
  {
   "cell_type": "code",
   "execution_count": 116,
   "metadata": {},
   "outputs": [
    {
     "name": "stdout",
     "output_type": "stream",
     "text": [
      "Model exported to onnx_model.onnx\n"
     ]
    }
   ],
   "source": [
    "dummy_input = torch.rand (1, 8).to(torch_device)\n",
    "onnx_path = \"onnx_model.onnx\"\n",
    "\n",
    "torch.onnx.export(\n",
    "    model,\n",
    "    dummy_input,\n",
    "    onnx_path,\n",
    "    verbose=False,\n",
    "    input_names=['input'],\n",
    "    output_names=['output']\n",
    ")\n",
    "\n",
    "print(f\"Model exported to {onnx_path}\")"
   ]
  },
  {
   "cell_type": "code",
   "execution_count": 117,
   "metadata": {},
   "outputs": [
    {
     "name": "stdout",
     "output_type": "stream",
     "text": [
      "ONNX Runtime outputs [array([[-0.09379324]], dtype=float32)]\n"
     ]
    }
   ],
   "source": [
    "#load model\n",
    "onnx_model = onnx.load(onnx_path)\n",
    "\n",
    "#create runtime session\n",
    "ort_session = onnxruntime.InferenceSession(onnx_path)\n",
    "\n",
    "#fill with dummy data\n",
    "input_data = dummy_input.cpu().numpy()\n",
    "\n",
    "#run model with ONNX runtime\n",
    "ort_inputs={ort_session.get_inputs()[0].name: input_data}\n",
    "ort_outputs=ort_session.run(None, ort_inputs)\n",
    "print(\"ONNX Runtime outputs\", ort_outputs)"
   ]
  },
  {
   "cell_type": "code",
   "execution_count": null,
   "metadata": {},
   "outputs": [],
   "source": []
  },
  {
   "cell_type": "code",
   "execution_count": null,
   "metadata": {},
   "outputs": [],
   "source": []
  }
 ],
 "metadata": {
  "kernelspec": {
   "display_name": "PY312_ITS365",
   "language": "python",
   "name": "python3"
  },
  "language_info": {
   "codemirror_mode": {
    "name": "ipython",
    "version": 3
   },
   "file_extension": ".py",
   "mimetype": "text/x-python",
   "name": "python",
   "nbconvert_exporter": "python",
   "pygments_lexer": "ipython3",
   "version": "3.12.0"
  }
 },
 "nbformat": 4,
 "nbformat_minor": 2
}
